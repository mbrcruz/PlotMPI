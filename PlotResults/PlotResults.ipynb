{
 "cells": [
  {
   "cell_type": "markdown",
   "id": "5e276379",
   "metadata": {},
   "source": [
    "Inicialização"
   ]
  },
  {
   "cell_type": "code",
   "execution_count": 1,
   "id": "9170152d",
   "metadata": {},
   "outputs": [],
   "source": [
    "from MyPlot import *\n",
    "import os\n",
    "import numpy as np\n",
    "import matplotlib.pyplot as plt\n"
   ]
  },
  {
   "cell_type": "markdown",
   "id": "7ae0dc59",
   "metadata": {},
   "source": [
    "Teste com 2 nodes (AWS)"
   ]
  },
  {
   "cell_type": "code",
   "execution_count": 2,
   "id": "b2773bc8",
   "metadata": {},
   "outputs": [
    {
     "name": "stdout",
     "output_type": "stream",
     "text": [
      " Number Scenario 32\n",
      " Base Directory D:\\Marcelo\\Dropbox (Personal)\\Planejamento\\Mestrado\\Pesquisas\\Results\\AWS\\Lustre- 1200 Series - Sem rede\\2 Nodes\n",
      "Loading Experiment 1\n",
      "Loading Processes 1\n",
      "Loading Processes 2\n",
      "Loading Processes 3\n",
      "Loading Processes 4\n",
      "Loading Processes 5\n",
      "Loading Processes 6\n",
      "Loading Processes 7\n",
      "Loading Processes 8\n",
      "Loading Processes 9\n",
      "Loading Processes 10\n",
      "Loading Processes 11\n",
      "Loading Processes 12\n",
      "Loading Processes 13\n",
      "Loading Processes 14\n",
      "Loading Processes 15\n",
      "Loading Processes 16\n",
      "Loading Processes 17\n",
      "Loading Processes 18\n",
      "Loading Processes 19\n",
      "Loading Processes 20\n",
      "Loading Processes 21\n",
      "Loading Processes 22\n",
      "Loading Processes 23\n",
      "Loading Processes 24\n",
      "Loading Processes 25\n",
      "Loading Processes 26\n",
      "Loading Processes 27\n",
      "Loading Processes 28\n",
      "Loading Processes 29\n",
      "Loading Processes 30\n",
      "Loading Processes 31\n",
      "Loading Processes 32\n",
      "Computing scenario 1 ...\n"
     ]
    },
    {
     "ename": "ValueError",
     "evalue": "The truth value of an array with more than one element is ambiguous. Use a.any() or a.all()",
     "output_type": "error",
     "traceback": [
      "\u001b[31m---------------------------------------------------------------------------\u001b[39m",
      "\u001b[31mValueError\u001b[39m                                Traceback (most recent call last)",
      "\u001b[36mCell\u001b[39m\u001b[36m \u001b[39m\u001b[32mIn[2]\u001b[39m\u001b[32m, line 6\u001b[39m\n\u001b[32m      3\u001b[39m p =  MyPlot(path_dados,\n\u001b[32m      4\u001b[39m             \u001b[32m2\u001b[39m , \u001b[32m16\u001b[39m, \u001b[32m32\u001b[39m ,TypeEvaluation.JUST_SEND)\n\u001b[32m      5\u001b[39m p.show_config()\n\u001b[32m----> \u001b[39m\u001b[32m6\u001b[39m \u001b[43mp\u001b[49m\u001b[43m.\u001b[49m\u001b[43mload_data\u001b[49m\u001b[43m(\u001b[49m\u001b[43m)\u001b[49m\n\u001b[32m      7\u001b[39m p.computerMetrics()\n",
      "\u001b[36mFile \u001b[39m\u001b[32md:\\Marcelo\\Projetos\\Python\\PlotResults\\PlotResults\\MyPlot.py:190\u001b[39m, in \u001b[36mMyPlot.load_data\u001b[39m\u001b[34m(self, filter_scenario, filter_experiment, number_experiments, min_size, max_size)\u001b[39m\n\u001b[32m    187\u001b[39m \u001b[38;5;28;01melse\u001b[39;00m:\n\u001b[32m    188\u001b[39m     diff= (x4 - x3 ) + ( x2 - x1)\n\u001b[32m--> \u001b[39m\u001b[32m190\u001b[39m \u001b[38;5;28;01mif\u001b[39;00m \u001b[43mdiff\u001b[49m\u001b[43m \u001b[49m\u001b[43m<\u001b[49m\u001b[43m=\u001b[49m\u001b[43m \u001b[49m\u001b[32;43m0\u001b[39;49m:                           \n\u001b[32m    191\u001b[39m     \u001b[38;5;28;01mif\u001b[39;00m scenario \u001b[38;5;129;01mnot\u001b[39;00m \u001b[38;5;129;01min\u001b[39;00m \u001b[38;5;28mself\u001b[39m.badScenarios: \n\u001b[32m    192\u001b[39m         \u001b[38;5;28mprint\u001b[39m(\u001b[33mf\u001b[39m\u001b[33m\"\u001b[39m\u001b[33mDiff is zero or negative: \u001b[39m\u001b[38;5;132;01m{\u001b[39;00mdiff\u001b[38;5;132;01m}\u001b[39;00m\u001b[33m for \u001b[39m\u001b[38;5;132;01m{\u001b[39;00mscenario\u001b[38;5;132;01m}\u001b[39;00m\u001b[33m \u001b[39m\u001b[38;5;132;01m{\u001b[39;00mfile\u001b[38;5;132;01m}\u001b[39;00m\u001b[33m \u001b[39m\u001b[38;5;132;01m{\u001b[39;00mblock\u001b[38;5;132;01m}\u001b[39;00m\u001b[33m\"\u001b[39m)  \n",
      "\u001b[31mValueError\u001b[39m: The truth value of an array with more than one element is ambiguous. Use a.any() or a.all()"
     ]
    }
   ],
   "source": [
    "path_dados = r\"D:\\Marcelo\\Dropbox (Personal)\\Planejamento\\Mestrado\\Pesquisas\\Results\\AWS\\Lustre- 1200 Series - Sem rede\\2 Nodes\"\n",
    "\n",
    "p =  MyPlot(path_dados,\n",
    "            2 , 16, 32 ,TypeEvaluation.JUST_SEND)\n",
    "p.show_config()\n",
    "p.load_data()\n",
    "p.computerMetrics()"
   ]
  },
  {
   "cell_type": "markdown",
   "id": "608fba74",
   "metadata": {},
   "source": [
    "Teste com 4 nodes (AWS)"
   ]
  },
  {
   "cell_type": "code",
   "execution_count": null,
   "id": "490bcf6d",
   "metadata": {},
   "outputs": [],
   "source": [
    "path_dados = r\"D:\\Marcelo\\Dropbox (Personal)\\Planejamento\\Mestrado\\Pesquisas\\Results\\AWS\\Lustre- 1200 Series - Sem rede\\4 Nodes\"\n",
    "\n",
    "p =  MyPlot(path_dados,\n",
    "            4 , 16, 1200 ,TypeEvaluation.JUST_SEND)\n",
    "p.show_config()\n",
    "p.load_data()\n",
    "p.computerMetrics()"
   ]
  },
  {
   "cell_type": "markdown",
   "id": "de002189",
   "metadata": {},
   "source": [
    "Teste com 8 nodes (AWS)"
   ]
  },
  {
   "cell_type": "code",
   "execution_count": null,
   "id": "4c3c9bad",
   "metadata": {},
   "outputs": [],
   "source": [
    "path_dados = r\"D:\\Marcelo\\Dropbox (Personal)\\Planejamento\\Mestrado\\Pesquisas\\Results\\AWS\\Lustre- 1200 Series - Sem rede\\8 Nodes\"\n",
    "\n",
    "p =  MyPlot(path_dados,\n",
    "            8 , 16, 1200 ,TypeEvaluation.JUST_SEND)\n",
    "p.show_config()\n",
    "p.load_data()\n",
    "p.computerMetrics()"
   ]
  },
  {
   "cell_type": "markdown",
   "id": "856a92ed",
   "metadata": {},
   "source": [
    "Teste com 16 nodes(AWS)"
   ]
  },
  {
   "cell_type": "code",
   "execution_count": null,
   "id": "fcced5b3",
   "metadata": {},
   "outputs": [],
   "source": [
    "path_dados = r\"D:\\Marcelo\\Dropbox (Personal)\\Planejamento\\Mestrado\\Pesquisas\\Results\\AWS\\Lustre- 1200 Series - Sem rede\\16 Nodes\"\n",
    "\n",
    "p =  MyPlot(path_dados,\n",
    "            16 , 16, 1200 ,TypeEvaluation.JUST_SEND)\n",
    "p.show_config()\n",
    "p.load_data()\n",
    "p.computerMetrics()"
   ]
  },
  {
   "cell_type": "markdown",
   "id": "9cd29430",
   "metadata": {},
   "source": [
    "Teste com 32 nodes(AWS)"
   ]
  },
  {
   "cell_type": "code",
   "execution_count": null,
   "id": "7e238ff9",
   "metadata": {},
   "outputs": [],
   "source": [
    "path_dados = r\"D:\\Marcelo\\Dropbox (Personal)\\Planejamento\\Mestrado\\Pesquisas\\Results\\AWS\\Lustre- 1200 Series - Sem rede\\32 Nodes\"\n",
    "\n",
    "p =  MyPlot(path_dados,\n",
    "            32 , 16, 1200 ,TypeEvaluation.JUST_SEND)\n",
    "p.show_config()\n",
    "p.load_data()\n",
    "p.computerMetrics()"
   ]
  },
  {
   "cell_type": "markdown",
   "id": "ad86c000",
   "metadata": {},
   "source": [
    "Plot AWS"
   ]
  },
  {
   "cell_type": "code",
   "execution_count": null,
   "id": "4c9a6451",
   "metadata": {},
   "outputs": [],
   "source": [
    "from MyPlot import *\n",
    "import os\n",
    "import numpy as np\n",
    "import matplotlib.pyplot as plt\n",
    "\n",
    "path_dados = r\"D:\\Marcelo\\Dropbox (Personal)\\Planejamento\\Mestrado\\Pesquisas\\Results\\AWS\\Lustre- 1200 Series - Sem rede\"\n",
    "p1 =  MyPlot(os.path.join(path_dados, \"2 Nodes\"),\n",
    "            2 , 16, 1200 ,TypeEvaluation.JUST_SEND)\n",
    "p1.load_data(filter_scenario=32)\n",
    "p1.PlotHistogram()\n",
    "# p1.plotBandwidth(path_dados,\"AWS\")\n",
    "p1.plotLatency(os.path.join(path_dados, \"2 Nodes\"),\"AWS\")\n",
    "p1.plotExecutionTime(os.path.join(path_dados, \"2 Nodes\"),\"AWS\")\n",
    "\n",
    "# p2 =  MyPlot(os.path.join(path_dados, \"32 Nodes\"),\n",
    "#             32 , 16, 1200 ,TypeEvaluation.JUST_SEND)\n",
    "# p2.load_data(filter_scenario=802)\n",
    "# p1.plotScatter(\"AWS\", p1.records, p2.records)\n"
   ]
  },
  {
   "cell_type": "markdown",
   "id": "82d0f0ca",
   "metadata": {},
   "source": [
    "Teste com 2 nodes e 1200 Cenarios ( LoboC )"
   ]
  },
  {
   "cell_type": "code",
   "execution_count": null,
   "id": "971e919a",
   "metadata": {},
   "outputs": [],
   "source": [
    "path_dados = r\"D:\\Marcelo\\Dropbox (Personal)\\Planejamento\\Mestrado\\Pesquisas\\Results\\LoboC\\Lustre - 1200 Series\\2 nodes\"\n",
    "\n",
    "p =  MyPlot(path_dados,\n",
    "            2 , 16, 1200 ,TypeEvaluation.JUST_SEND)\n",
    "p.show_config()\n",
    "p.load_data()\n",
    "p.computerMetrics()"
   ]
  },
  {
   "cell_type": "markdown",
   "id": "7d1d55fd",
   "metadata": {},
   "source": [
    "Teste com 4 nodes e 1200 Cenarios ( LoboC )"
   ]
  },
  {
   "cell_type": "code",
   "execution_count": null,
   "id": "133320d0",
   "metadata": {},
   "outputs": [],
   "source": [
    "path_dados = r\"D:\\Marcelo\\Dropbox (Personal)\\Planejamento\\Mestrado\\Pesquisas\\Results\\LoboC\\Lustre - 1200 Series\\4 nodes\"\n",
    "\n",
    "p =  MyPlot(path_dados,\n",
    "            4 , 16, 1200 ,TypeEvaluation.JUST_SEND)\n",
    "p.show_config()\n",
    "p.load_data()\n",
    "p.computerMetrics()"
   ]
  },
  {
   "cell_type": "markdown",
   "id": "cac14b72",
   "metadata": {},
   "source": [
    "Teste com 8 nodes e 1200 Cenarios ( LoboC )"
   ]
  },
  {
   "cell_type": "code",
   "execution_count": null,
   "id": "77299233",
   "metadata": {},
   "outputs": [],
   "source": [
    "path_dados = r\"D:\\Marcelo\\Dropbox (Personal)\\Planejamento\\Mestrado\\Pesquisas\\Results\\LoboC\\Lustre - 1200 Series\\8 nodes\"\n",
    "\n",
    "p =  MyPlot(path_dados,\n",
    "            8 , 16, 1200 ,TypeEvaluation.JUST_SEND)\n",
    "p.show_config()\n",
    "p.load_data()\n",
    "p.computerMetrics()"
   ]
  },
  {
   "cell_type": "markdown",
   "id": "04f131c2",
   "metadata": {},
   "source": [
    "Teste com 16 nodes e 1200 Cenarios ( LoboC )"
   ]
  },
  {
   "cell_type": "code",
   "execution_count": null,
   "id": "2f5cef7a",
   "metadata": {},
   "outputs": [],
   "source": [
    "path_dados = r\"D:\\Marcelo\\Dropbox (Personal)\\Planejamento\\Mestrado\\Pesquisas\\Results\\LoboC\\Lustre - 1200 Series\\16 nodes\"\n",
    "\n",
    "p =  MyPlot(path_dados,\n",
    "            16 , 16, 1200 ,TypeEvaluation.JUST_SEND)\n",
    "p.show_config()\n",
    "p.load_data()\n",
    "p.computerMetrics()"
   ]
  },
  {
   "cell_type": "markdown",
   "id": "63da9687",
   "metadata": {},
   "source": [
    "Teste com 32 nodes e 1200 Cenarios ( LoboC )"
   ]
  },
  {
   "cell_type": "code",
   "execution_count": null,
   "id": "aaac6b3e",
   "metadata": {},
   "outputs": [],
   "source": [
    "path_dados = r\"D:\\Marcelo\\Dropbox (Personal)\\Planejamento\\Mestrado\\Pesquisas\\Results\\LoboC\\Lustre - 1200 Series\\32 nodes\"\n",
    "\n",
    "p =  MyPlot(path_dados,\n",
    "            32 , 2, 128 ,TypeEvaluation.JUST_SEND)\n",
    "p.show_config()\n",
    "p.load_data()\n",
    "p.computerMetrics()"
   ]
  },
  {
   "cell_type": "markdown",
   "id": "d9566b09",
   "metadata": {},
   "source": [
    "Plot LoboC"
   ]
  },
  {
   "cell_type": "code",
   "execution_count": null,
   "id": "6fc795f0",
   "metadata": {},
   "outputs": [],
   "source": [
    "from MyPlot import *\n",
    "import os\n",
    "import numpy as np\n",
    "import matplotlib.pyplot as plt\n",
    "\n",
    "path_dados = r\"D:\\Marcelo\\Dropbox (Personal)\\Planejamento\\Mestrado\\Pesquisas\\Results\\LoboC\\Lustre - 128 Series\\2 nodes\"\n",
    "p1 =  MyPlot(path_dados,\n",
    "            2 , 2, 1200 ,TypeEvaluation.JUST_SEND)\n",
    "p1.load_data(filter_experiment=1,number_experiments=10)\n",
    "p1.plotLatency(path_dados,\"LoboC\")\n",
    "p1.plotExecutionTime(path_dados,\"LoboC\")\n",
    "p1.PlotHistogram()\n",
    "\n",
    "# path_dados = r\"D:\\Marcelo\\Dropbox (Personal)\\Planejamento\\Mestrado\\Pesquisas\\Results\\LoboC\\Lustre - 128 Series\\32 Nodes\"\n",
    "# p2 =  MyPlot(path_dados,\n",
    "#             32 , 2, 128 ,TypeEvaluation.JUST_SEND)\n",
    "# p2.load_data()\n",
    "# p2.computerMetrics( escrever_csv=False,filter_scenario=37)\n",
    "# p1.plotScatter(\"LoboC\", p1.records, p2.records)\n"
   ]
  }
 ],
 "metadata": {
  "kernelspec": {
   "display_name": ".venv",
   "language": "python",
   "name": "python3"
  },
  "language_info": {
   "codemirror_mode": {
    "name": "ipython",
    "version": 3
   },
   "file_extension": ".py",
   "mimetype": "text/x-python",
   "name": "python",
   "nbconvert_exporter": "python",
   "pygments_lexer": "ipython3",
   "version": "3.13.1"
  }
 },
 "nbformat": 4,
 "nbformat_minor": 5
}
