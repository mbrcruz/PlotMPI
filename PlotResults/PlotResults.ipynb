{
 "cells": [
  {
   "cell_type": "markdown",
   "id": "5e276379",
   "metadata": {},
   "source": [
    "Inicialização"
   ]
  },
  {
   "cell_type": "code",
   "execution_count": null,
   "id": "9170152d",
   "metadata": {},
   "outputs": [],
   "source": [
    "from MyPlot import *\n",
    "import os\n",
    "import numpy as np\n",
    "import matplotlib.pyplot as plt\n"
   ]
  },
  {
   "cell_type": "markdown",
   "id": "7ae0dc59",
   "metadata": {},
   "source": [
    "Teste com 2 nodes (AWS)"
   ]
  },
  {
   "cell_type": "code",
   "execution_count": null,
   "id": "b2773bc8",
   "metadata": {},
   "outputs": [],
   "source": [
    "path_dados = r\"D:\\Marcelo\\Dropbox (Personal)\\Planejamento\\Mestrado\\Pesquisas\\Results\\AWS\\Lustre - 448 series - Com rede\\2 Nodes\"\n",
    "\n",
    "p =  MyPlot(path_dados,\n",
    "            2 , 7, 448 ,TypeEvaluation.JUST_SEND)\n",
    "p.show_config()\n",
    "p.load_data()\n",
    "p.computerMetrics()"
   ]
  },
  {
   "cell_type": "markdown",
   "id": "608fba74",
   "metadata": {},
   "source": [
    "Teste com 4 nodes (AWS)"
   ]
  },
  {
   "cell_type": "code",
   "execution_count": null,
   "id": "490bcf6d",
   "metadata": {},
   "outputs": [],
   "source": [
    "path_dados = r\"D:\\Marcelo\\Dropbox (Personal)\\Planejamento\\Mestrado\\Pesquisas\\Results\\AWS\\Lustre - 448 series - Com rede\\4 Nodes\"\n",
    "\n",
    "p =  MyPlot(path_dados,\n",
    "            4 , 7, 448 ,TypeEvaluation.JUST_SEND)\n",
    "p.show_config()\n",
    "p.load_data()\n",
    "p.computerMetrics()"
   ]
  },
  {
   "cell_type": "markdown",
   "id": "de002189",
   "metadata": {},
   "source": [
    "Teste com 8 nodes (AWS)"
   ]
  },
  {
   "cell_type": "code",
   "execution_count": null,
   "id": "4c3c9bad",
   "metadata": {},
   "outputs": [],
   "source": [
    "path_dados = r\"D:\\Marcelo\\Dropbox (Personal)\\Planejamento\\Mestrado\\Pesquisas\\Results\\AWS\\Lustre - 448 series - Com rede\\8 Nodes\"\n",
    "\n",
    "p =  MyPlot(path_dados,\n",
    "            8 , 7, 448 ,TypeEvaluation.JUST_SEND)\n",
    "p.show_config()\n",
    "p.load_data()\n",
    "p.computerMetrics()"
   ]
  },
  {
   "cell_type": "markdown",
   "id": "856a92ed",
   "metadata": {},
   "source": [
    "Teste com 16 nodes(AWS)"
   ]
  },
  {
   "cell_type": "code",
   "execution_count": null,
   "id": "fcced5b3",
   "metadata": {},
   "outputs": [],
   "source": [
    "path_dados = r\"D:\\Marcelo\\Dropbox (Personal)\\Planejamento\\Mestrado\\Pesquisas\\Results\\AWS\\Lustre - 448 series - Com rede\\16 Nodes\"\n",
    "\n",
    "p =  MyPlot(path_dados,\n",
    "            16 , 7, 448 ,TypeEvaluation.JUST_SEND)\n",
    "p.show_config()\n",
    "p.load_data()\n",
    "p.computerMetrics()"
   ]
  },
  {
   "cell_type": "markdown",
   "id": "9cd29430",
   "metadata": {},
   "source": [
    "Teste com 32 nodes(AWS)"
   ]
  },
  {
   "cell_type": "code",
   "execution_count": null,
   "id": "7e238ff9",
   "metadata": {},
   "outputs": [],
   "source": [
    "path_dados = r\"D:\\Marcelo\\Dropbox (Personal)\\Planejamento\\Mestrado\\Pesquisas\\Results\\AWS\\Lustre - 448 series - Com rede\\32 Nodes\"\n",
    "\n",
    "p =  MyPlot(path_dados,\n",
    "            32 , 7, 448 ,TypeEvaluation.JUST_SEND)\n",
    "p.show_config()\n",
    "p.load_data()\n",
    "p.computerMetrics()"
   ]
  },
  {
   "cell_type": "markdown",
   "id": "ad86c000",
   "metadata": {},
   "source": [
    "Plot AWS"
   ]
  },
  {
   "cell_type": "code",
   "execution_count": null,
   "id": "4c9a6451",
   "metadata": {},
   "outputs": [],
   "source": [
    "from MyPlot import *\n",
    "import os\n",
    "import numpy as np\n",
    "import matplotlib.pyplot as plt\n",
    "\n",
    "path_dados = r\"D:\\Marcelo\\Dropbox (Personal)\\Planejamento\\Mestrado\\Pesquisas\\Results\\AWS\\Lustre - 448 Series - Com rede\\2 Nodes\"\n",
    "p1 =  MyPlot(path_dados,\n",
    "            2 , 7, 448 ,TypeEvaluation.JUST_SEND)\n",
    "p1.load_data()\n",
    "p1.computerMetrics(escrever_csv=False, filter_scenario=4)\n",
    "#p1.plotBandwidth(path_dados,\"AWS\")\n",
    "#p1.plotExecutionTime(path_dados,\"AWS\")\n",
    "#p1.plotLatency(path_dados,\"AWS\")\n",
    "#p1.PlotHistogram()\n",
    "#p1.PlotHistogram(max_size=1)\n",
    "\n",
    "path_dados = r\"D:\\Marcelo\\Dropbox (Personal)\\Planejamento\\Mestrado\\Pesquisas\\Results\\AWS\\Lustre - 448 Series - Com rede\\16 Nodes\"\n",
    "p2 =  MyPlot(path_dados,\n",
    "            16 , 7, 448 ,TypeEvaluation.JUST_SEND)\n",
    "p2.load_data()\n",
    "p2.computerMetrics(escrever_csv=False,filter_scenario=27)\n",
    "p1.plotScatter(\"AWS\", p1.diffs, p2.diffs, p1.sizes, p2.sizes)\n"
   ]
  },
  {
   "cell_type": "markdown",
   "id": "82d0f0ca",
   "metadata": {},
   "source": [
    "Teste com 2 nodes e 128 Cenarios ( LoboC )"
   ]
  },
  {
   "cell_type": "code",
   "execution_count": null,
   "id": "971e919a",
   "metadata": {},
   "outputs": [],
   "source": [
    "path_dados = r\"D:\\Marcelo\\Dropbox (Personal)\\Planejamento\\Mestrado\\Pesquisas\\Results\\LoboC\\Lustre - 128 Series\\2 nodes\"\n",
    "\n",
    "p =  MyPlot(path_dados,\n",
    "            2 , 2, 128 ,TypeEvaluation.JUST_SEND)\n",
    "p.show_config()\n",
    "p.load_data()\n",
    "p.computerMetrics()"
   ]
  },
  {
   "cell_type": "markdown",
   "id": "7d1d55fd",
   "metadata": {},
   "source": [
    "Teste com 4 nodes e 128 Cenarios ( LoboC )"
   ]
  },
  {
   "cell_type": "code",
   "execution_count": null,
   "id": "133320d0",
   "metadata": {},
   "outputs": [],
   "source": [
    "path_dados = r\"D:\\Marcelo\\Dropbox (Personal)\\Planejamento\\Mestrado\\Pesquisas\\Results\\LoboC\\Lustre - 128 Series\\4 nodes\"\n",
    "\n",
    "p =  MyPlot(path_dados,\n",
    "            4 , 2, 128 ,TypeEvaluation.JUST_SEND)\n",
    "p.show_config()\n",
    "p.load_data()\n",
    "p.computerMetrics()"
   ]
  },
  {
   "cell_type": "markdown",
   "id": "cac14b72",
   "metadata": {},
   "source": [
    "Teste com 8 nodes e 128 Cenarios ( LoboC )"
   ]
  },
  {
   "cell_type": "code",
   "execution_count": null,
   "id": "77299233",
   "metadata": {},
   "outputs": [],
   "source": [
    "path_dados = r\"D:\\Marcelo\\Dropbox (Personal)\\Planejamento\\Mestrado\\Pesquisas\\Results\\LoboC\\Lustre - 128 Series\\8 nodes\"\n",
    "\n",
    "p =  MyPlot(path_dados,\n",
    "            8 , 2, 128 ,TypeEvaluation.JUST_SEND)\n",
    "p.show_config()\n",
    "p.load_data()\n",
    "p.computerMetrics()"
   ]
  },
  {
   "cell_type": "markdown",
   "id": "04f131c2",
   "metadata": {},
   "source": [
    "Teste com 16 nodes e 128 Cenarios ( LoboC )"
   ]
  },
  {
   "cell_type": "code",
   "execution_count": null,
   "id": "2f5cef7a",
   "metadata": {},
   "outputs": [],
   "source": [
    "path_dados = r\"D:\\Marcelo\\Dropbox (Personal)\\Planejamento\\Mestrado\\Pesquisas\\Results\\LoboC\\Lustre - 128 Series\\16 nodes\"\n",
    "\n",
    "p =  MyPlot(path_dados,\n",
    "            16 , 2, 128 ,TypeEvaluation.JUST_SEND)\n",
    "p.show_config()\n",
    "p.load_data()\n",
    "p.computerMetrics()"
   ]
  },
  {
   "cell_type": "markdown",
   "id": "63da9687",
   "metadata": {},
   "source": [
    "Teste com 32 nodes e 128 Cenarios ( LoboC )"
   ]
  },
  {
   "cell_type": "code",
   "execution_count": null,
   "id": "aaac6b3e",
   "metadata": {},
   "outputs": [],
   "source": [
    "path_dados = r\"D:\\Marcelo\\Dropbox (Personal)\\Planejamento\\Mestrado\\Pesquisas\\Results\\LoboC\\Lustre - 128 Series\\32 nodes\"\n",
    "\n",
    "p =  MyPlot(path_dados,\n",
    "            32 , 2, 128 ,TypeEvaluation.JUST_SEND)\n",
    "p.show_config()\n",
    "p.load_data()\n",
    "p.computerMetrics()"
   ]
  },
  {
   "cell_type": "markdown",
   "id": "d9566b09",
   "metadata": {},
   "source": [
    "Plot LoboC"
   ]
  },
  {
   "cell_type": "code",
   "execution_count": null,
   "id": "6fc795f0",
   "metadata": {},
   "outputs": [],
   "source": [
    "path_dados = r\"D:\\Marcelo\\Dropbox (Personal)\\Planejamento\\Mestrado\\Pesquisas\\Results\\LoboC\\Lustre - 128 Series\\2 nodes\"\n",
    "p =  MyPlot(path_dados,\n",
    "            2 , 2, 128 ,TypeEvaluation.JUST_SEND)\n",
    "p.load_data()\n",
    "p.plotBandwidth(path_dados,\"loboC\")\n",
    "p.plotExecutionTime(path_dados,\"LoboC\")\n",
    "p.plotLatency(path_dados,\"LoboC\")\n",
    "p.computerMetrics(escrever_csv=False)\n",
    "p.PlotHistogram()"
   ]
  }
 ],
 "metadata": {
  "kernelspec": {
   "display_name": ".venv",
   "language": "python",
   "name": "python3"
  },
  "language_info": {
   "codemirror_mode": {
    "name": "ipython",
    "version": 3
   },
   "file_extension": ".py",
   "mimetype": "text/x-python",
   "name": "python",
   "nbconvert_exporter": "python",
   "pygments_lexer": "ipython3",
   "version": "3.13.1"
  }
 },
 "nbformat": 4,
 "nbformat_minor": 5
}
